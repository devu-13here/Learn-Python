{
  "nbformat": 4,
  "nbformat_minor": 0,
  "metadata": {
    "colab": {
      "provenance": [],
      "authorship_tag": "ABX9TyM22/1O6QgHNMKxUJFJ/eNE",
      "include_colab_link": true
    },
    "kernelspec": {
      "name": "python3",
      "display_name": "Python 3"
    },
    "language_info": {
      "name": "python"
    }
  },
  "cells": [
    {
      "cell_type": "markdown",
      "metadata": {
        "id": "view-in-github",
        "colab_type": "text"
      },
      "source": [
        "<a href=\"https://colab.research.google.com/github/devu-13here/Learn-Python/blob/main/Tut_3.ipynb\" target=\"_parent\"><img src=\"https://colab.research.google.com/assets/colab-badge.svg\" alt=\"Open In Colab\"/></a>"
      ]
    },
    {
      "cell_type": "markdown",
      "source": [
        "# **Python Data Structure and Boolean**"
      ],
      "metadata": {
        "id": "JigXvYs3ogJN"
      }
    },
    {
      "cell_type": "markdown",
      "source": [
        "\n",
        "\n",
        "*   Boolean\n",
        "*   Boolean and Logical Operators\n",
        "* Lists\n",
        "* Comparison operators\n",
        "* Dictionaries\n",
        "* Tuples\n",
        "* Sets\n",
        "\n"
      ],
      "metadata": {
        "id": "Un5KJHP9osvB"
      }
    },
    {
      "cell_type": "markdown",
      "source": [
        "**Boolean Variables**\n",
        "\n",
        "Boolean values are two constant objects False and True.\n",
        "They are used to represent truth values(other values can also be considered false or true).\n",
        "* In numeric context 0 stands for False\n",
        "and 1 stands for Truth.\n",
        "\n",
        "* The built-in function bool() can be used to cast any value to a Boolean,if the value can be interprted as a truth value\n",
        "\n",
        "\n",
        "*   They are written as False and True, respectively\n",
        "\n",
        "\n",
        "\n"
      ],
      "metadata": {
        "id": "7RDiX7AvpTRt"
      }
    },
    {
      "cell_type": "code",
      "source": [
        "bool()\n",
        "bool(1)"
      ],
      "metadata": {
        "colab": {
          "base_uri": "https://localhost:8080/"
        },
        "id": "m9ZhG_9kr5je",
        "outputId": "9f0fc1ff-4f40-43dc-e9a0-3d067dab494a"
      },
      "execution_count": 2,
      "outputs": [
        {
          "output_type": "execute_result",
          "data": {
            "text/plain": [
              "True"
            ]
          },
          "metadata": {},
          "execution_count": 2
        }
      ]
    },
    {
      "cell_type": "code",
      "source": [
        "print(True,False)"
      ],
      "metadata": {
        "colab": {
          "base_uri": "https://localhost:8080/"
        },
        "id": "E3NyFrmTqX27",
        "outputId": "0e5c8065-5795-4f99-a8cf-1c4f5cf2c8f3"
      },
      "execution_count": 3,
      "outputs": [
        {
          "output_type": "stream",
          "name": "stdout",
          "text": [
            "True False\n"
          ]
        }
      ]
    },
    {
      "cell_type": "code",
      "source": [
        "type(True)"
      ],
      "metadata": {
        "colab": {
          "base_uri": "https://localhost:8080/"
        },
        "id": "QTqdVUn1osQp",
        "outputId": "4fc4194e-0b9c-4307-b38c-a4371633c76a"
      },
      "execution_count": 4,
      "outputs": [
        {
          "output_type": "execute_result",
          "data": {
            "text/plain": [
              "bool"
            ]
          },
          "metadata": {},
          "execution_count": 4
        }
      ]
    },
    {
      "cell_type": "code",
      "execution_count": 5,
      "metadata": {
        "colab": {
          "base_uri": "https://localhost:8080/"
        },
        "id": "PzGjI1XBiz2O",
        "outputId": "2f7b6e4c-90a9-4278-df27-05b4c88133e1"
      },
      "outputs": [
        {
          "output_type": "execute_result",
          "data": {
            "text/plain": [
              "bool"
            ]
          },
          "metadata": {},
          "execution_count": 5
        }
      ],
      "source": [
        "type(False)"
      ]
    },
    {
      "cell_type": "markdown",
      "source": [
        "# **In-Built functions of Strings.**"
      ],
      "metadata": {
        "id": "bSnzgSyOsCdy"
      }
    },
    {
      "cell_type": "code",
      "source": [
        "str=\"Devanjali Patel\""
      ],
      "metadata": {
        "id": "hmOl2WWypRkG"
      },
      "execution_count": 6,
      "outputs": []
    },
    {
      "cell_type": "code",
      "source": [
        "print(1,str.isalnum())  #checks if all char are num\n",
        "print(\"----\")\n",
        "print(2,str.isalpha()) #checks if all char in string are alphabetic\n",
        "print(3,str.isdigit()) #test if string contains digits\n",
        "print(4,str.islower()) #test if string is lowercase\n",
        "print(5,str.isupper()) #test if string is uppercase\n",
        "print(6,str.isspace()) #test if string contains whitespaces\n",
        "print(7,str.istitle()) #test if string contains title words (matlab capital)\n",
        "print(8,str.endswith(\"l\")) #test if string ends with the specified value\n"
      ],
      "metadata": {
        "colab": {
          "base_uri": "https://localhost:8080/"
        },
        "id": "_-YRDdtIsN3v",
        "outputId": "dc3123a3-bd9f-4cfa-aa0e-5ac9f0c40d62"
      },
      "execution_count": 7,
      "outputs": [
        {
          "output_type": "stream",
          "name": "stdout",
          "text": [
            "1 False\n",
            "----\n",
            "2 False\n",
            "3 False\n",
            "4 False\n",
            "5 False\n",
            "6 False\n",
            "7 True\n",
            "8 True\n"
          ]
        }
      ]
    },
    {
      "cell_type": "markdown",
      "source": [
        "# **Boolean and Logical Operators**"
      ],
      "metadata": {
        "id": "xVPRJ81yu0y5"
      }
    },
    {
      "cell_type": "code",
      "source": [
        "True and True"
      ],
      "metadata": {
        "colab": {
          "base_uri": "https://localhost:8080/"
        },
        "id": "EnRk0fAku-8k",
        "outputId": "b0209563-9f70-4dd9-951d-9a6a3448c7f2"
      },
      "execution_count": 8,
      "outputs": [
        {
          "output_type": "execute_result",
          "data": {
            "text/plain": [
              "True"
            ]
          },
          "metadata": {},
          "execution_count": 8
        }
      ]
    },
    {
      "cell_type": "code",
      "source": [
        "True and False"
      ],
      "metadata": {
        "colab": {
          "base_uri": "https://localhost:8080/"
        },
        "id": "g3MP75CevCxz",
        "outputId": "2ff4a8c6-03f9-4d3c-e812-dd5dd4b3b9d9"
      },
      "execution_count": 9,
      "outputs": [
        {
          "output_type": "execute_result",
          "data": {
            "text/plain": [
              "False"
            ]
          },
          "metadata": {},
          "execution_count": 9
        }
      ]
    },
    {
      "cell_type": "code",
      "source": [
        "True or False"
      ],
      "metadata": {
        "colab": {
          "base_uri": "https://localhost:8080/"
        },
        "id": "PcMgDhF_vFzH",
        "outputId": "6f047ee6-f0e0-4641-a1e8-3b7ace0696f9"
      },
      "execution_count": 10,
      "outputs": [
        {
          "output_type": "execute_result",
          "data": {
            "text/plain": [
              "True"
            ]
          },
          "metadata": {},
          "execution_count": 10
        }
      ]
    },
    {
      "cell_type": "code",
      "source": [
        "True or True"
      ],
      "metadata": {
        "colab": {
          "base_uri": "https://localhost:8080/"
        },
        "id": "TOJvn7_jvJQg",
        "outputId": "74a1b5ef-b9c0-4294-abb1-fd606969ca19"
      },
      "execution_count": 11,
      "outputs": [
        {
          "output_type": "execute_result",
          "data": {
            "text/plain": [
              "True"
            ]
          },
          "metadata": {},
          "execution_count": 11
        }
      ]
    },
    {
      "cell_type": "code",
      "source": [
        "str_1=\"Devanjali\"\n",
        "str_2=\"Patel\""
      ],
      "metadata": {
        "id": "ELcWbiWQvOFb"
      },
      "execution_count": 12,
      "outputs": []
    },
    {
      "cell_type": "code",
      "source": [
        "str_2.isalpha() or str_2.isnum()"
      ],
      "metadata": {
        "colab": {
          "base_uri": "https://localhost:8080/"
        },
        "id": "n_k6jm8Fvb9m",
        "outputId": "14cc8a88-1f4d-4293-bb89-270f44f263c0"
      },
      "execution_count": 13,
      "outputs": [
        {
          "output_type": "execute_result",
          "data": {
            "text/plain": [
              "True"
            ]
          },
          "metadata": {},
          "execution_count": 13
        }
      ]
    },
    {
      "cell_type": "markdown",
      "source": [
        "# **List**"
      ],
      "metadata": {
        "id": "PWELqFOyv1rJ"
      }
    },
    {
      "cell_type": "markdown",
      "source": [
        "A list is a Data Structure in Python that is mutable , or changeable , ordered sequence of elements.Each element or value that is inside of a list is called an item. Just as strings are defined as charachters between quotes ,lists are defined by having values between square brackets[]."
      ],
      "metadata": {
        "id": "kw-roTwFv3rl"
      }
    },
    {
      "cell_type": "code",
      "source": [
        "type([])  #basically agar woh square brackets ke anda hai toh list hai"
      ],
      "metadata": {
        "colab": {
          "base_uri": "https://localhost:8080/"
        },
        "id": "NXDry8yomy9k",
        "outputId": "48f27172-d51f-4525-87c7-0eb902871fca"
      },
      "execution_count": 14,
      "outputs": [
        {
          "output_type": "execute_result",
          "data": {
            "text/plain": [
              "list"
            ]
          },
          "metadata": {},
          "execution_count": 14
        }
      ]
    },
    {
      "cell_type": "code",
      "source": [
        "# List\n",
        "list_example=[]\n",
        "type(list_example)\n"
      ],
      "metadata": {
        "colab": {
          "base_uri": "https://localhost:8080/"
        },
        "id": "GVwdWrzWvxqN",
        "outputId": "c93bcaa9-e689-4975-967e-6561e4c8f7d7"
      },
      "execution_count": 15,
      "outputs": [
        {
          "output_type": "execute_result",
          "data": {
            "text/plain": [
              "list"
            ]
          },
          "metadata": {},
          "execution_count": 15
        }
      ]
    },
    {
      "cell_type": "code",
      "source": [
        "lst=list()  #Use of Inbuilt function called List\n",
        "type(lst)   #Used with comma separated values"
      ],
      "metadata": {
        "colab": {
          "base_uri": "https://localhost:8080/"
        },
        "id": "ZuF-eslSwzJF",
        "outputId": "fba360ad-c62e-49fd-f34f-e2929dd35489"
      },
      "execution_count": 16,
      "outputs": [
        {
          "output_type": "execute_result",
          "data": {
            "text/plain": [
              "list"
            ]
          },
          "metadata": {},
          "execution_count": 16
        }
      ]
    },
    {
      "cell_type": "code",
      "source": [
        "lst=['Mathematics',10,'Physics','Information Practices','Chemistry','Physical Education','English']\n"
      ],
      "metadata": {
        "id": "zkswmDaLxJ5-"
      },
      "execution_count": 17,
      "outputs": []
    },
    {
      "cell_type": "code",
      "source": [
        "len(lst)"
      ],
      "metadata": {
        "colab": {
          "base_uri": "https://localhost:8080/"
        },
        "id": "RcpsX3reyAAx",
        "outputId": "ba221daa-8ac2-498e-88f3-f85e36bed6c1"
      },
      "execution_count": 18,
      "outputs": [
        {
          "output_type": "execute_result",
          "data": {
            "text/plain": [
              "7"
            ]
          },
          "metadata": {},
          "execution_count": 18
        }
      ]
    },
    {
      "cell_type": "code",
      "source": [
        "type(lst)"
      ],
      "metadata": {
        "colab": {
          "base_uri": "https://localhost:8080/"
        },
        "id": "u5OF7rj3yE8N",
        "outputId": "f9f6ccb6-31e6-41bf-9bb7-2447137ca604"
      },
      "execution_count": 19,
      "outputs": [
        {
          "output_type": "execute_result",
          "data": {
            "text/plain": [
              "list"
            ]
          },
          "metadata": {},
          "execution_count": 19
        }
      ]
    },
    {
      "cell_type": "markdown",
      "source": [
        "**Append**\n",
        "* Used to add element at the end of the list.\n",
        "\n",
        "**Indexing in List**\n",
        "* Index starts from index 0."
      ],
      "metadata": {
        "id": "CLwUFgimyIy-"
      }
    },
    {
      "cell_type": "code",
      "source": [
        "lst.append('Devu')\n",
        "lst"
      ],
      "metadata": {
        "colab": {
          "base_uri": "https://localhost:8080/"
        },
        "id": "G7n_zwVZyMlw",
        "outputId": "17bd91a6-6f28-4bb0-e902-697b25e9393e"
      },
      "execution_count": 20,
      "outputs": [
        {
          "output_type": "execute_result",
          "data": {
            "text/plain": [
              "['Mathematics',\n",
              " 10,\n",
              " 'Physics',\n",
              " 'Information Practices',\n",
              " 'Chemistry',\n",
              " 'Physical Education',\n",
              " 'English',\n",
              " 'Devu']"
            ]
          },
          "metadata": {},
          "execution_count": 20
        }
      ]
    },
    {
      "cell_type": "markdown",
      "source": [
        "# **Nested List**\n",
        "* Appending of more than 2 elements creates a nested list and them to the existing list.\n"
      ],
      "metadata": {
        "id": "8uXdNrrw0Y6g"
      }
    },
    {
      "cell_type": "code",
      "source": [
        "lst.append(['Sweety','is','here'])"
      ],
      "metadata": {
        "id": "bQoQ8Efg0WuN"
      },
      "execution_count": 21,
      "outputs": []
    },
    {
      "cell_type": "code",
      "source": [
        "lst"
      ],
      "metadata": {
        "colab": {
          "base_uri": "https://localhost:8080/"
        },
        "id": "L5-9Ij051WyK",
        "outputId": "8193c40b-09d9-4647-e678-fa072d534e3c"
      },
      "execution_count": 22,
      "outputs": [
        {
          "output_type": "execute_result",
          "data": {
            "text/plain": [
              "['Mathematics',\n",
              " 10,\n",
              " 'Physics',\n",
              " 'Information Practices',\n",
              " 'Chemistry',\n",
              " 'Physical Education',\n",
              " 'English',\n",
              " 'Devu',\n",
              " ['Sweety', 'is', 'here']]"
            ]
          },
          "metadata": {},
          "execution_count": 22
        }
      ]
    },
    {
      "cell_type": "code",
      "source": [
        "lst[3]"
      ],
      "metadata": {
        "colab": {
          "base_uri": "https://localhost:8080/",
          "height": 36
        },
        "id": "SPX6L2cRzr2T",
        "outputId": "bc807d37-403a-4b57-cc8e-9927969f8dbf"
      },
      "execution_count": 23,
      "outputs": [
        {
          "output_type": "execute_result",
          "data": {
            "text/plain": [
              "'Information Practices'"
            ],
            "application/vnd.google.colaboratory.intrinsic+json": {
              "type": "string"
            }
          },
          "metadata": {},
          "execution_count": 23
        }
      ]
    },
    {
      "cell_type": "code",
      "source": [
        "lst[:] #It is gonna print all the elements"
      ],
      "metadata": {
        "colab": {
          "base_uri": "https://localhost:8080/"
        },
        "id": "LjEL8S9Jzzdx",
        "outputId": "88b5de3c-ada5-4048-ff97-1cd13969137f"
      },
      "execution_count": 24,
      "outputs": [
        {
          "output_type": "execute_result",
          "data": {
            "text/plain": [
              "['Mathematics',\n",
              " 10,\n",
              " 'Physics',\n",
              " 'Information Practices',\n",
              " 'Chemistry',\n",
              " 'Physical Education',\n",
              " 'English',\n",
              " 'Devu',\n",
              " ['Sweety', 'is', 'here']]"
            ]
          },
          "metadata": {},
          "execution_count": 24
        }
      ]
    },
    {
      "cell_type": "code",
      "source": [
        "lst[2:] #used to specify the range"
      ],
      "metadata": {
        "colab": {
          "base_uri": "https://localhost:8080/"
        },
        "id": "86VdC5HKz-zx",
        "outputId": "206bf8f0-f1e7-4c35-b909-08964d4e272c"
      },
      "execution_count": 25,
      "outputs": [
        {
          "output_type": "execute_result",
          "data": {
            "text/plain": [
              "['Physics',\n",
              " 'Information Practices',\n",
              " 'Chemistry',\n",
              " 'Physical Education',\n",
              " 'English',\n",
              " 'Devu',\n",
              " ['Sweety', 'is', 'here']]"
            ]
          },
          "metadata": {},
          "execution_count": 25
        }
      ]
    },
    {
      "cell_type": "code",
      "source": [
        "lst[3:5]  #used to specify the range\n",
        "          #the last ka element is usually left out."
      ],
      "metadata": {
        "colab": {
          "base_uri": "https://localhost:8080/"
        },
        "id": "k7JLmgY_n4uy",
        "outputId": "f9431dbd-3d68-4755-c574-b4b0c16f6fcf"
      },
      "execution_count": 26,
      "outputs": [
        {
          "output_type": "execute_result",
          "data": {
            "text/plain": [
              "['Information Practices', 'Chemistry']"
            ]
          },
          "metadata": {},
          "execution_count": 26
        }
      ]
    },
    {
      "cell_type": "markdown",
      "source": [
        "# **Insert**\n",
        "* To insert the element at the desired location"
      ],
      "metadata": {
        "id": "6wok-Wf91eWY"
      }
    },
    {
      "cell_type": "code",
      "source": [
        "lst.insert(2,'Devanjali') #First value is index and second value is the value to be inserted."
      ],
      "metadata": {
        "id": "eL6xQv6T1owt"
      },
      "execution_count": 27,
      "outputs": []
    },
    {
      "cell_type": "code",
      "source": [
        "lst"
      ],
      "metadata": {
        "colab": {
          "base_uri": "https://localhost:8080/"
        },
        "id": "foJ3uIx71zDW",
        "outputId": "f3feb956-289f-45d7-8409-ccd4e03a5df0"
      },
      "execution_count": 28,
      "outputs": [
        {
          "output_type": "execute_result",
          "data": {
            "text/plain": [
              "['Mathematics',\n",
              " 10,\n",
              " 'Devanjali',\n",
              " 'Physics',\n",
              " 'Information Practices',\n",
              " 'Chemistry',\n",
              " 'Physical Education',\n",
              " 'English',\n",
              " 'Devu',\n",
              " ['Sweety', 'is', 'here']]"
            ]
          },
          "metadata": {},
          "execution_count": 28
        }
      ]
    },
    {
      "cell_type": "code",
      "source": [
        "list1=[1,2,3]"
      ],
      "metadata": {
        "id": "73KrP9iT3pN9"
      },
      "execution_count": 29,
      "outputs": []
    },
    {
      "cell_type": "code",
      "source": [
        "list1.append([4,5])"
      ],
      "metadata": {
        "id": "t0gKv5lt3xjf"
      },
      "execution_count": 30,
      "outputs": []
    },
    {
      "cell_type": "code",
      "source": [
        "list1"
      ],
      "metadata": {
        "colab": {
          "base_uri": "https://localhost:8080/"
        },
        "id": "QPkoID3o33hZ",
        "outputId": "2b5c65af-7f98-45eb-c572-8fa7bfec118e"
      },
      "execution_count": 31,
      "outputs": [
        {
          "output_type": "execute_result",
          "data": {
            "text/plain": [
              "[1, 2, 3, [4, 5]]"
            ]
          },
          "metadata": {},
          "execution_count": 31
        }
      ]
    },
    {
      "cell_type": "markdown",
      "source": [
        "# **Extend Method**\n",
        "  - adds the elements without the square brackets"
      ],
      "metadata": {
        "id": "tQZCRjQ54BrU"
      }
    },
    {
      "cell_type": "code",
      "source": [
        "lst.extend([6,7])"
      ],
      "metadata": {
        "id": "joSYd_5N4GB1"
      },
      "execution_count": 32,
      "outputs": []
    },
    {
      "cell_type": "code",
      "source": [
        "lst"
      ],
      "metadata": {
        "colab": {
          "base_uri": "https://localhost:8080/"
        },
        "id": "egOacgT_4NnR",
        "outputId": "8e84e7c5-91a7-49b6-bd74-b2e9244b6a3a"
      },
      "execution_count": 33,
      "outputs": [
        {
          "output_type": "execute_result",
          "data": {
            "text/plain": [
              "['Mathematics',\n",
              " 10,\n",
              " 'Devanjali',\n",
              " 'Physics',\n",
              " 'Information Practices',\n",
              " 'Chemistry',\n",
              " 'Physical Education',\n",
              " 'English',\n",
              " 'Devu',\n",
              " ['Sweety', 'is', 'here'],\n",
              " 6,\n",
              " 7]"
            ]
          },
          "metadata": {},
          "execution_count": 33
        }
      ]
    },
    {
      "cell_type": "code",
      "source": [
        "list1.extend([6,7])"
      ],
      "metadata": {
        "id": "9EVOuq8n4SlJ"
      },
      "execution_count": 34,
      "outputs": []
    },
    {
      "cell_type": "code",
      "source": [
        "list1"
      ],
      "metadata": {
        "colab": {
          "base_uri": "https://localhost:8080/"
        },
        "id": "DXUFZz6S4ZJ4",
        "outputId": "20cce668-12bf-484f-c003-dee68024d098"
      },
      "execution_count": 35,
      "outputs": [
        {
          "output_type": "execute_result",
          "data": {
            "text/plain": [
              "[1, 2, 3, [4, 5], 6, 7]"
            ]
          },
          "metadata": {},
          "execution_count": 35
        }
      ]
    },
    {
      "cell_type": "markdown",
      "source": [
        "# **Various Operations that we can perform in List**"
      ],
      "metadata": {
        "id": "soo-Ut8JDg9T"
      }
    },
    {
      "cell_type": "code",
      "source": [
        "lst=[1,2,3,4,5]"
      ],
      "metadata": {
        "id": "GT__WC7JD06Y"
      },
      "execution_count": 36,
      "outputs": []
    },
    {
      "cell_type": "code",
      "source": [
        "sum(lst)"
      ],
      "metadata": {
        "colab": {
          "base_uri": "https://localhost:8080/"
        },
        "id": "KJLUYyXCEIK3",
        "outputId": "99a15067-a849-42ef-a6d3-900937e6b979"
      },
      "execution_count": 37,
      "outputs": [
        {
          "output_type": "execute_result",
          "data": {
            "text/plain": [
              "15"
            ]
          },
          "metadata": {},
          "execution_count": 37
        }
      ]
    },
    {
      "cell_type": "code",
      "source": [
        "lst*2   #multiply the list elements to twice"
      ],
      "metadata": {
        "colab": {
          "base_uri": "https://localhost:8080/"
        },
        "id": "PK8va5wmO_7s",
        "outputId": "9c5d75b7-4a14-430f-e11b-1a47d35ac257"
      },
      "execution_count": 49,
      "outputs": [
        {
          "output_type": "execute_result",
          "data": {
            "text/plain": [
              "[1, 1, 2, 3, 4, 5, 1, 1, 2, 3, 4, 5]"
            ]
          },
          "metadata": {},
          "execution_count": 49
        }
      ]
    },
    {
      "cell_type": "code",
      "source": [
        "lst*5 #5 times the list gets appended"
      ],
      "metadata": {
        "colab": {
          "base_uri": "https://localhost:8080/"
        },
        "id": "43UIVFFsPPaI",
        "outputId": "4da5f5d1-36cb-4a1a-9dd2-d3f6569e02d9"
      },
      "execution_count": 50,
      "outputs": [
        {
          "output_type": "execute_result",
          "data": {
            "text/plain": [
              "[1,\n",
              " 1,\n",
              " 2,\n",
              " 3,\n",
              " 4,\n",
              " 5,\n",
              " 1,\n",
              " 1,\n",
              " 2,\n",
              " 3,\n",
              " 4,\n",
              " 5,\n",
              " 1,\n",
              " 1,\n",
              " 2,\n",
              " 3,\n",
              " 4,\n",
              " 5,\n",
              " 1,\n",
              " 1,\n",
              " 2,\n",
              " 3,\n",
              " 4,\n",
              " 5,\n",
              " 1,\n",
              " 1,\n",
              " 2,\n",
              " 3,\n",
              " 4,\n",
              " 5]"
            ]
          },
          "metadata": {},
          "execution_count": 50
        }
      ]
    },
    {
      "cell_type": "markdown",
      "source": [
        "# Pop() Method\n",
        " - It pickups the element at a specific index\n",
        " -By default the last element is selected."
      ],
      "metadata": {
        "id": "Nf1JW0LrprKq"
      }
    },
    {
      "cell_type": "code",
      "source": [
        "lst.pop()  #removes the last element"
      ],
      "metadata": {
        "colab": {
          "base_uri": "https://localhost:8080/"
        },
        "id": "7jHtC_y5qYqn",
        "outputId": "ce042589-a98c-4b00-a32a-77969fc567b2"
      },
      "execution_count": 38,
      "outputs": [
        {
          "output_type": "execute_result",
          "data": {
            "text/plain": [
              "5"
            ]
          },
          "metadata": {},
          "execution_count": 38
        }
      ]
    },
    {
      "cell_type": "code",
      "source": [
        "lst"
      ],
      "metadata": {
        "colab": {
          "base_uri": "https://localhost:8080/"
        },
        "id": "vYMy2k8zqcfH",
        "outputId": "e912a8c0-7d27-45e8-e887-a35b9d667572"
      },
      "execution_count": 39,
      "outputs": [
        {
          "output_type": "execute_result",
          "data": {
            "text/plain": [
              "[1, 2, 3, 4]"
            ]
          },
          "metadata": {},
          "execution_count": 39
        }
      ]
    },
    {
      "cell_type": "code",
      "source": [
        "lst.pop(0) #removes the element at specific index."
      ],
      "metadata": {
        "colab": {
          "base_uri": "https://localhost:8080/"
        },
        "id": "XyENdm64qflP",
        "outputId": "7acec400-25f4-4303-b54f-77dc54d8e734"
      },
      "execution_count": 40,
      "outputs": [
        {
          "output_type": "execute_result",
          "data": {
            "text/plain": [
              "1"
            ]
          },
          "metadata": {},
          "execution_count": 40
        }
      ]
    },
    {
      "cell_type": "code",
      "source": [
        "lst"
      ],
      "metadata": {
        "colab": {
          "base_uri": "https://localhost:8080/"
        },
        "id": "dsLE5Aa5qjAZ",
        "outputId": "2957d418-3a52-4c33-f376-97254de01f9c"
      },
      "execution_count": 41,
      "outputs": [
        {
          "output_type": "execute_result",
          "data": {
            "text/plain": [
              "[2, 3, 4]"
            ]
          },
          "metadata": {},
          "execution_count": 41
        }
      ]
    },
    {
      "cell_type": "markdown",
      "source": [
        "# Count() : Calculates total occurence of given element of List.\n",
        "- element whose probability is to be checked is passed as argument"
      ],
      "metadata": {
        "id": "i-1bqV4yq1nK"
      }
    },
    {
      "cell_type": "code",
      "source": [
        "lst=[1,1,2,3,4,5]\n",
        "lst.count(1)"
      ],
      "metadata": {
        "colab": {
          "base_uri": "https://localhost:8080/"
        },
        "id": "GhWWflZArCc-",
        "outputId": "bfc80f3b-c29e-49c7-e9ff-656c3a290d24"
      },
      "execution_count": 42,
      "outputs": [
        {
          "output_type": "execute_result",
          "data": {
            "text/plain": [
              "2"
            ]
          },
          "metadata": {},
          "execution_count": 42
        }
      ]
    },
    {
      "cell_type": "code",
      "source": [
        "#Length:Calculates the total length of the List\n",
        "len(lst)\n"
      ],
      "metadata": {
        "colab": {
          "base_uri": "https://localhost:8080/"
        },
        "id": "P34kdQGzrZE1",
        "outputId": "e23e789f-0224-49b2-d244-60c1108a773d"
      },
      "execution_count": 43,
      "outputs": [
        {
          "output_type": "execute_result",
          "data": {
            "text/plain": [
              "6"
            ]
          },
          "metadata": {},
          "execution_count": 43
        }
      ]
    },
    {
      "cell_type": "code",
      "source": [
        "#index() :Returns the index of first occurence.#Start and End index are not necessary parameters\n",
        "lst.index(1,0,4)\n",
        "lst.index(1)"
      ],
      "metadata": {
        "colab": {
          "base_uri": "https://localhost:8080/"
        },
        "id": "yL3ye7VrrpXR",
        "outputId": "572b402e-775f-4689-b19e-d3b311be7b71"
      },
      "execution_count": 45,
      "outputs": [
        {
          "output_type": "execute_result",
          "data": {
            "text/plain": [
              "0"
            ]
          },
          "metadata": {},
          "execution_count": 45
        }
      ]
    },
    {
      "cell_type": "code",
      "source": [
        "#Min and Max\n",
        "min(lst)"
      ],
      "metadata": {
        "colab": {
          "base_uri": "https://localhost:8080/"
        },
        "id": "MdujT3qtOUOV",
        "outputId": "cc232e05-f26a-4fca-88a2-9b64c7e6f932"
      },
      "execution_count": 46,
      "outputs": [
        {
          "output_type": "execute_result",
          "data": {
            "text/plain": [
              "1"
            ]
          },
          "metadata": {},
          "execution_count": 46
        }
      ]
    },
    {
      "cell_type": "code",
      "source": [
        "max(lst)"
      ],
      "metadata": {
        "colab": {
          "base_uri": "https://localhost:8080/"
        },
        "id": "OxdllHAHOakj",
        "outputId": "5d4134bc-48fb-41c5-a25d-bfd15613881d"
      },
      "execution_count": 47,
      "outputs": [
        {
          "output_type": "execute_result",
          "data": {
            "text/plain": [
              "5"
            ]
          },
          "metadata": {},
          "execution_count": 47
        }
      ]
    }
  ]
}