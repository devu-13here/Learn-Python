{
  "nbformat": 4,
  "nbformat_minor": 0,
  "metadata": {
    "colab": {
      "provenance": [],
      "authorship_tag": "ABX9TyP8JbrYpdnURE1bI69nLeIA",
      "include_colab_link": true
    },
    "kernelspec": {
      "name": "python3",
      "display_name": "Python 3"
    },
    "language_info": {
      "name": "python"
    }
  },
  "cells": [
    {
      "cell_type": "markdown",
      "metadata": {
        "id": "view-in-github",
        "colab_type": "text"
      },
      "source": [
        "<a href=\"https://colab.research.google.com/github/devu-13here/Learn-Python/blob/main/Tutorial_3.ipynb\" target=\"_parent\"><img src=\"https://colab.research.google.com/assets/colab-badge.svg\" alt=\"Open In Colab\"/></a>"
      ]
    },
    {
      "cell_type": "markdown",
      "source": [
        "# **SETS**\n",
        "- A Set is an unordered collection data type that is iterable,mutable and has no duplicate elements.Python's set class represents the mthematical notion of a set.This is based on data structure known as a hash table.\n",
        "- Basically curly braces are used for the defining and declaring the elements of a set."
      ],
      "metadata": {
        "id": "XSycUPpwdvSF"
      }
    },
    {
      "cell_type": "code",
      "execution_count": null,
      "metadata": {
        "colab": {
          "base_uri": "https://localhost:8080/"
        },
        "id": "djiWSt7-dtsC",
        "outputId": "9c7cc669-a783-4b20-eb36-1f244ffdeedc"
      },
      "outputs": [
        {
          "output_type": "stream",
          "name": "stdout",
          "text": [
            "set()\n",
            "<class 'set'>\n"
          ]
        }
      ],
      "source": [
        "#Defining an empty set\n",
        "set_var = set()\n",
        "print(set_var)\n",
        "print(type(set_var))"
      ]
    },
    {
      "cell_type": "code",
      "source": [
        "set_var={\"Avengers\",\"IronMan\",\"Hitman\"}\n",
        "print(set_var)\n",
        "type(set_var)"
      ],
      "metadata": {
        "colab": {
          "base_uri": "https://localhost:8080/"
        },
        "id": "kOkVNRaShFMS",
        "outputId": "a8e76bb5-7b71-4f9b-acef-7a20ebc80e0b"
      },
      "execution_count": null,
      "outputs": [
        {
          "output_type": "stream",
          "name": "stdout",
          "text": [
            "{'IronMan', 'Hitman', 'Avengers'}\n"
          ]
        },
        {
          "output_type": "execute_result",
          "data": {
            "text/plain": [
              "set"
            ]
          },
          "metadata": {},
          "execution_count": 32
        }
      ]
    },
    {
      "cell_type": "code",
      "source": [
        "set_declared={1,1,2,2,2,3,4,5}"
      ],
      "metadata": {
        "id": "QicsWp3ohWzC"
      },
      "execution_count": null,
      "outputs": []
    },
    {
      "cell_type": "code",
      "source": [
        "set_declared"
      ],
      "metadata": {
        "colab": {
          "base_uri": "https://localhost:8080/"
        },
        "id": "dcp4nnTIi5ZD",
        "outputId": "0479d63a-c1aa-44c2-f3ce-445bf818b9cf"
      },
      "execution_count": null,
      "outputs": [
        {
          "output_type": "execute_result",
          "data": {
            "text/plain": [
              "{1, 2, 3, 4, 5}"
            ]
          },
          "metadata": {},
          "execution_count": 34
        }
      ]
    },
    {
      "cell_type": "code",
      "source": [
        "set_princess={\"Snow White\",\"Cindrella\",\"Rapunzel\",\"Sofia\",\"Elsa\"}\n",
        "print(set_princess)\n",
        "type(set_princess)"
      ],
      "metadata": {
        "colab": {
          "base_uri": "https://localhost:8080/"
        },
        "id": "2v1CNe3Zi88p",
        "outputId": "960e989b-09ae-462c-e51e-cdf31d680852"
      },
      "execution_count": null,
      "outputs": [
        {
          "output_type": "stream",
          "name": "stdout",
          "text": [
            "{'Sofia', 'Rapunzel', 'Elsa', 'Snow White', 'Cindrella'}\n"
          ]
        },
        {
          "output_type": "execute_result",
          "data": {
            "text/plain": [
              "set"
            ]
          },
          "metadata": {},
          "execution_count": 35
        }
      ]
    },
    {
      "cell_type": "code",
      "source": [
        "#Inbuilt function in sets\n",
        "#There is no indexing option supported in sets\n",
        "\n",
        "set_princess.add(\"Barbie\")\n",
        "print(set_princess)"
      ],
      "metadata": {
        "colab": {
          "base_uri": "https://localhost:8080/"
        },
        "id": "sWIf6bPRjP4d",
        "outputId": "4bb39c64-c35d-4d16-8904-e90963a9fb5e"
      },
      "execution_count": null,
      "outputs": [
        {
          "output_type": "stream",
          "name": "stdout",
          "text": [
            "{'Sofia', 'Rapunzel', 'Elsa', 'Snow White', 'Barbie', 'Cindrella'}\n"
          ]
        }
      ]
    },
    {
      "cell_type": "code",
      "source": [
        "set_1={1,2,3,4}\n",
        "set_2={3,4,5,6}"
      ],
      "metadata": {
        "id": "hw5ZH07ckp8i"
      },
      "execution_count": null,
      "outputs": []
    },
    {
      "cell_type": "code",
      "source": [
        "set_1.union(set_2)"
      ],
      "metadata": {
        "colab": {
          "base_uri": "https://localhost:8080/"
        },
        "id": "zAvtJC2jnEAR",
        "outputId": "52898974-b865-4b28-bba8-80777f62a22d"
      },
      "execution_count": null,
      "outputs": [
        {
          "output_type": "execute_result",
          "data": {
            "text/plain": [
              "{1, 2, 3, 4, 5, 6}"
            ]
          },
          "metadata": {},
          "execution_count": 38
        }
      ]
    },
    {
      "cell_type": "code",
      "source": [
        "set_1.intersection_update(set_2)"
      ],
      "metadata": {
        "id": "e7seAYjgnHt2"
      },
      "execution_count": null,
      "outputs": []
    },
    {
      "cell_type": "code",
      "source": [
        "set_1"
      ],
      "metadata": {
        "colab": {
          "base_uri": "https://localhost:8080/"
        },
        "id": "oDuAL0IAnSu7",
        "outputId": "c7239867-42fe-4ed4-fd7c-72ef5bfcddcf"
      },
      "execution_count": null,
      "outputs": [
        {
          "output_type": "execute_result",
          "data": {
            "text/plain": [
              "{3, 4}"
            ]
          },
          "metadata": {},
          "execution_count": 40
        }
      ]
    },
    {
      "cell_type": "code",
      "source": [
        "#Intersection - shows the common elements in both the sets\n",
        "set_1.intersection(set_2)"
      ],
      "metadata": {
        "colab": {
          "base_uri": "https://localhost:8080/"
        },
        "id": "HGRPfqlzm5ML",
        "outputId": "75980166-277a-44ad-d48c-737ec30202c7"
      },
      "execution_count": null,
      "outputs": [
        {
          "output_type": "execute_result",
          "data": {
            "text/plain": [
              "{3, 4}"
            ]
          },
          "metadata": {},
          "execution_count": 41
        }
      ]
    },
    {
      "cell_type": "code",
      "source": [
        "#Difference\n",
        "set_2.difference(set_1)\n"
      ],
      "metadata": {
        "colab": {
          "base_uri": "https://localhost:8080/"
        },
        "id": "19Brwrn-kuI6",
        "outputId": "dfd10f94-4f9c-4d03-a187-ba90896e0b05"
      },
      "execution_count": null,
      "outputs": [
        {
          "output_type": "execute_result",
          "data": {
            "text/plain": [
              "{5, 6}"
            ]
          },
          "metadata": {},
          "execution_count": 42
        }
      ]
    },
    {
      "cell_type": "code",
      "source": [
        "#Difference update\n",
        "set_2.difference_update(set_1)"
      ],
      "metadata": {
        "id": "GqaysxDMmozf"
      },
      "execution_count": null,
      "outputs": []
    },
    {
      "cell_type": "code",
      "source": [
        "set_2"
      ],
      "metadata": {
        "colab": {
          "base_uri": "https://localhost:8080/"
        },
        "id": "4s8_p_ovmxli",
        "outputId": "c93a53c6-42d6-4f18-e52f-e8559700a301"
      },
      "execution_count": null,
      "outputs": [
        {
          "output_type": "execute_result",
          "data": {
            "text/plain": [
              "{5, 6}"
            ]
          },
          "metadata": {},
          "execution_count": 44
        }
      ]
    },
    {
      "cell_type": "code",
      "source": [
        "set_1.difference(set_2)"
      ],
      "metadata": {
        "colab": {
          "base_uri": "https://localhost:8080/"
        },
        "id": "e8m07Rb3lD4E",
        "outputId": "0c3b1c6e-a0a7-41ee-d3ed-4f0bda59e316"
      },
      "execution_count": null,
      "outputs": [
        {
          "output_type": "execute_result",
          "data": {
            "text/plain": [
              "{3, 4}"
            ]
          },
          "metadata": {},
          "execution_count": 45
        }
      ]
    },
    {
      "cell_type": "markdown",
      "source": [
        "# **Dictionaries**\n",
        "- A Dictionary is a collection which is unordered,changeable and indexed. In Python dictionaries are written with curly brackets, and they have keys and values."
      ],
      "metadata": {
        "id": "cNI-ZaeOnd5W"
      }
    },
    {
      "cell_type": "code",
      "source": [
        "disc={}"
      ],
      "metadata": {
        "id": "TH-I8n0in1Zg"
      },
      "execution_count": null,
      "outputs": []
    },
    {
      "cell_type": "code",
      "source": [
        "type(disc)"
      ],
      "metadata": {
        "colab": {
          "base_uri": "https://localhost:8080/"
        },
        "id": "k9VKyFSBpR67",
        "outputId": "af36d6ad-57c3-4df9-f15a-395dbea912b6"
      },
      "execution_count": null,
      "outputs": [
        {
          "output_type": "execute_result",
          "data": {
            "text/plain": [
              "dict"
            ]
          },
          "metadata": {},
          "execution_count": 47
        }
      ]
    },
    {
      "cell_type": "code",
      "source": [
        "type(dict())"
      ],
      "metadata": {
        "colab": {
          "base_uri": "https://localhost:8080/"
        },
        "id": "SkSLP3yOyjgW",
        "outputId": "334a3e83-7e2b-4328-dd2a-c4f113539ea3"
      },
      "execution_count": null,
      "outputs": [
        {
          "output_type": "execute_result",
          "data": {
            "text/plain": [
              "dict"
            ]
          },
          "metadata": {},
          "execution_count": 48
        }
      ]
    },
    {
      "cell_type": "code",
      "source": [
        "disc={1,2,3,4,5}"
      ],
      "metadata": {
        "id": "RdLD7AFopbCc"
      },
      "execution_count": null,
      "outputs": []
    },
    {
      "cell_type": "code",
      "source": [
        "type(disc)"
      ],
      "metadata": {
        "colab": {
          "base_uri": "https://localhost:8080/"
        },
        "id": "enMwDnc4pgWm",
        "outputId": "edf33c25-16eb-49c4-f051-92e2fb327f84"
      },
      "execution_count": null,
      "outputs": [
        {
          "output_type": "execute_result",
          "data": {
            "text/plain": [
              "set"
            ]
          },
          "metadata": {},
          "execution_count": 50
        }
      ]
    },
    {
      "cell_type": "code",
      "source": [
        "#Let's Create a Dictionary\n",
        "dictionary_car = {\"Car1\":\"BMW\",\"Car2\":\"Rolls-Royce Phantom\",\"Car3\":\"Bentley Flying Spur\"}"
      ],
      "metadata": {
        "id": "H5wfTpNHpkL6"
      },
      "execution_count": 5,
      "outputs": []
    },
    {
      "cell_type": "code",
      "source": [
        "type(dictionary_car)"
      ],
      "metadata": {
        "colab": {
          "base_uri": "https://localhost:8080/"
        },
        "id": "8jLbyCnUqVyU",
        "outputId": "182c2544-63a5-42c9-c376-92160cd8b799"
      },
      "execution_count": 6,
      "outputs": [
        {
          "output_type": "execute_result",
          "data": {
            "text/plain": [
              "dict"
            ]
          },
          "metadata": {},
          "execution_count": 6
        }
      ]
    },
    {
      "cell_type": "code",
      "source": [
        "#Access the item values based on keys\n",
        "dictionary_car[\"Car1\"]"
      ],
      "metadata": {
        "id": "PiMZd7UZzOeE",
        "colab": {
          "base_uri": "https://localhost:8080/",
          "height": 36
        },
        "outputId": "2de14db4-ead1-4b60-b238-1e442a07c15b"
      },
      "execution_count": 7,
      "outputs": [
        {
          "output_type": "execute_result",
          "data": {
            "text/plain": [
              "'BMW'"
            ],
            "application/vnd.google.colaboratory.intrinsic+json": {
              "type": "string"
            }
          },
          "metadata": {},
          "execution_count": 7
        }
      ]
    },
    {
      "cell_type": "code",
      "source": [
        "#We can even loop through the dictionary keys\n",
        "for x in dictionary_car:\n",
        "  print(x)"
      ],
      "metadata": {
        "colab": {
          "base_uri": "https://localhost:8080/"
        },
        "id": "dt6Hfkgj2md2",
        "outputId": "cc40d76a-697b-44da-ac49-1ccea27670d6"
      },
      "execution_count": 8,
      "outputs": [
        {
          "output_type": "stream",
          "name": "stdout",
          "text": [
            "Car1\n",
            "Car2\n",
            "Car3\n"
          ]
        }
      ]
    },
    {
      "cell_type": "code",
      "source": [
        "# We can also check both keys and values\n",
        "for x in dictionary_car:\n",
        "  print(dictionary_car[x])"
      ],
      "metadata": {
        "colab": {
          "base_uri": "https://localhost:8080/"
        },
        "id": "rd5dARhX26dK",
        "outputId": "3947cdc4-9504-43fc-f597-c8cf6a7fb84b"
      },
      "execution_count": 9,
      "outputs": [
        {
          "output_type": "stream",
          "name": "stdout",
          "text": [
            "BMW\n",
            "Rolls-Royce Phantom\n",
            "Bentley Flying Spur\n"
          ]
        }
      ]
    },
    {
      "cell_type": "code",
      "source": [
        "#We can also check both key and values\n",
        "for x in dictionary_car.items():\n",
        "   print(x)"
      ],
      "metadata": {
        "colab": {
          "base_uri": "https://localhost:8080/"
        },
        "id": "CbSKILMf3OJZ",
        "outputId": "fb0889b6-815e-41d5-c465-491a36ffd673"
      },
      "execution_count": 11,
      "outputs": [
        {
          "output_type": "stream",
          "name": "stdout",
          "text": [
            "('Car1', 'BMW')\n",
            "('Car2', 'Rolls-Royce Phantom')\n",
            "('Car3', 'Bentley Flying Spur')\n"
          ]
        }
      ]
    },
    {
      "cell_type": "code",
      "source": [
        "dictionary_car['Car4']=\"Helicopter\""
      ],
      "metadata": {
        "id": "nJ12UJWi7lsg"
      },
      "execution_count": 12,
      "outputs": []
    },
    {
      "cell_type": "code",
      "source": [
        "dictionary_car"
      ],
      "metadata": {
        "colab": {
          "base_uri": "https://localhost:8080/"
        },
        "id": "uTPmXHEN-kFy",
        "outputId": "c5795f50-4ee4-4562-b0d9-7303779346f9"
      },
      "execution_count": 13,
      "outputs": [
        {
          "output_type": "execute_result",
          "data": {
            "text/plain": [
              "{'Car1': 'BMW',\n",
              " 'Car2': 'Rolls-Royce Phantom',\n",
              " 'Car3': 'Bentley Flying Spur',\n",
              " 'Car4': 'Helicopter'}"
            ]
          },
          "metadata": {},
          "execution_count": 13
        }
      ]
    },
    {
      "cell_type": "code",
      "source": [
        "#replacing of value\n",
        "dictionary_car['Car1']=\"Mercedes\"\n",
        "dictionary_car"
      ],
      "metadata": {
        "colab": {
          "base_uri": "https://localhost:8080/"
        },
        "id": "1jcF2oiQAeTT",
        "outputId": "d5f9ec39-c6ef-43a7-dae0-10a63e520738"
      },
      "execution_count": 16,
      "outputs": [
        {
          "output_type": "execute_result",
          "data": {
            "text/plain": [
              "{'Car1': 'Mercedes',\n",
              " 'Car2': 'Rolls-Royce Phantom',\n",
              " 'Car3': 'Bentley Flying Spur',\n",
              " 'Car4': 'Helicopter'}"
            ]
          },
          "metadata": {},
          "execution_count": 16
        }
      ]
    },
    {
      "cell_type": "markdown",
      "source": [
        "# **Nested Dictionary**"
      ],
      "metadata": {
        "id": "BWMHOwtz-pxj"
      }
    },
    {
      "cell_type": "code",
      "source": [
        "car1_model={'Mercedes':1960}\n",
        "car2_model={'Rolls-Royce':1962}\n",
        "car3_model={'Bentley':1964}\n",
        "\n",
        "car_type={'Car1':car1_model,'Car2':car2_model,'Car3':car3_model}"
      ],
      "metadata": {
        "id": "HrgUgbci-oZ3"
      },
      "execution_count": 14,
      "outputs": []
    },
    {
      "cell_type": "code",
      "source": [
        "print(car_type)"
      ],
      "metadata": {
        "colab": {
          "base_uri": "https://localhost:8080/"
        },
        "id": "RGHruhgkAM9_",
        "outputId": "b4aaea70-0073-4d7e-d5d8-6604a77ff96a"
      },
      "execution_count": 15,
      "outputs": [
        {
          "output_type": "stream",
          "name": "stdout",
          "text": [
            "{'Car1': {'Mercedes': 1960}, 'Car2': {'Rolls-Royce': 1962}, 'Car3': {'Bentley': 1964}}\n"
          ]
        }
      ]
    },
    {
      "cell_type": "code",
      "source": [
        "#Accessing the items in the dictionary\n",
        "print(car_type['Car1'])"
      ],
      "metadata": {
        "colab": {
          "base_uri": "https://localhost:8080/"
        },
        "id": "W6M4oVs7Cq8C",
        "outputId": "c6910ee9-91e7-4f3e-8c8e-c6cf5a6f632c"
      },
      "execution_count": 17,
      "outputs": [
        {
          "output_type": "stream",
          "name": "stdout",
          "text": [
            "{'Mercedes': 1960}\n"
          ]
        }
      ]
    },
    {
      "cell_type": "code",
      "source": [
        "print(car_type['Car1']['Mercedes'])"
      ],
      "metadata": {
        "colab": {
          "base_uri": "https://localhost:8080/"
        },
        "id": "USCs0DpOC0MJ",
        "outputId": "418bce9b-4c3b-4564-d25b-55712c12950e"
      },
      "execution_count": 18,
      "outputs": [
        {
          "output_type": "stream",
          "name": "stdout",
          "text": [
            "1960\n"
          ]
        }
      ]
    },
    {
      "cell_type": "markdown",
      "source": [
        "# **Tuples**"
      ],
      "metadata": {
        "id": "rLwZJRTaDP8O"
      }
    },
    {
      "cell_type": "code",
      "source": [
        "my_tuple=(1,2,3,4,5)"
      ],
      "metadata": {
        "id": "3ewCBhVAEEUN"
      },
      "execution_count": 20,
      "outputs": []
    },
    {
      "cell_type": "code",
      "source": [
        "type(my_tuple)"
      ],
      "metadata": {
        "colab": {
          "base_uri": "https://localhost:8080/"
        },
        "id": "CV5fAdWGEGUp",
        "outputId": "d1153792-0903-4ca8-e1c5-6b7542767267"
      },
      "execution_count": 21,
      "outputs": [
        {
          "output_type": "execute_result",
          "data": {
            "text/plain": [
              "tuple"
            ]
          },
          "metadata": {},
          "execution_count": 21
        }
      ]
    },
    {
      "cell_type": "code",
      "source": [
        "kia=()"
      ],
      "metadata": {
        "id": "2EWTxaLTES0K"
      },
      "execution_count": 22,
      "outputs": []
    },
    {
      "cell_type": "code",
      "source": [
        "type(kia)"
      ],
      "metadata": {
        "colab": {
          "base_uri": "https://localhost:8080/"
        },
        "id": "lohyxJk4EqiN",
        "outputId": "4d6cca6a-b5cf-4606-a828-1bccc99bcfcf"
      },
      "execution_count": 23,
      "outputs": [
        {
          "output_type": "execute_result",
          "data": {
            "text/plain": [
              "tuple"
            ]
          },
          "metadata": {},
          "execution_count": 23
        }
      ]
    },
    {
      "cell_type": "code",
      "source": [
        "new_tuple=(\"Hi\",\"I\",\"am\",\"Devanjali\")"
      ],
      "metadata": {
        "id": "0cEZx2jGEvcd"
      },
      "execution_count": 25,
      "outputs": []
    },
    {
      "cell_type": "code",
      "source": [
        "new_tuple[0]"
      ],
      "metadata": {
        "colab": {
          "base_uri": "https://localhost:8080/",
          "height": 36
        },
        "id": "CXb7j_fyE_-t",
        "outputId": "d5a832ce-a0f4-41bf-8bf9-0e0a99fe0a59"
      },
      "execution_count": 26,
      "outputs": [
        {
          "output_type": "execute_result",
          "data": {
            "text/plain": [
              "'Hi'"
            ],
            "application/vnd.google.colaboratory.intrinsic+json": {
              "type": "string"
            }
          },
          "metadata": {},
          "execution_count": 26
        }
      ]
    },
    {
      "cell_type": "markdown",
      "source": [
        "Tuple do not support item assignment(no operation on the tuple)"
      ],
      "metadata": {
        "id": "K1WPgoHpFKvW"
      }
    },
    {
      "cell_type": "markdown",
      "source": [],
      "metadata": {
        "id": "f0OSRpO7FWtI"
      }
    }
  ]
}