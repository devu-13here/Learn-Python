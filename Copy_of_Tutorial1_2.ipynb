{
  "nbformat": 4,
  "nbformat_minor": 0,
  "metadata": {
    "colab": {
      "provenance": [],
      "authorship_tag": "ABX9TyNQGcXE4YQL6FhY9x/jZ2Mn",
      "include_colab_link": true
    },
    "kernelspec": {
      "name": "python3",
      "display_name": "Python 3"
    },
    "language_info": {
      "name": "python"
    }
  },
  "cells": [
    {
      "cell_type": "markdown",
      "metadata": {
        "id": "view-in-github",
        "colab_type": "text"
      },
      "source": [
        "<a href=\"https://colab.research.google.com/github/devu-13here/Learn-Python/blob/main/Copy_of_Tutorial1_2.ipynb\" target=\"_parent\"><img src=\"https://colab.research.google.com/assets/colab-badge.svg\" alt=\"Open In Colab\"/></a>"
      ]
    },
    {
      "cell_type": "markdown",
      "source": [
        "\n",
        "#  **Basic of Python**\n",
        "\n",
        "---\n",
        "\n",
        "Topics covered in this notebook are:\n",
        "\n",
        "1.   Various Datatypes in Python\n",
        "2.   Variable\n",
        "3. Variable Assignment\n",
        "4. Print Formatting\n",
        "\n",
        "---\n"
      ],
      "metadata": {
        "id": "Aadeb_8aICup"
      }
    },
    {
      "cell_type": "markdown",
      "source": [
        "## **Various DataTypes in Python**"
      ],
      "metadata": {
        "id": "iZTG6manJ1S5"
      }
    },
    {
      "cell_type": "markdown",
      "source": [
        "**Numbers**"
      ],
      "metadata": {
        "id": "SpzKJxKXJ76l"
      }
    },
    {
      "cell_type": "code",
      "source": [
        "x= 1+1\n",
        "print(x)\n",
        "print(type(x))"
      ],
      "metadata": {
        "colab": {
          "base_uri": "https://localhost:8080/"
        },
        "id": "D0nSbB9lKJ_S",
        "outputId": "ab5b0e68-07f3-4e0a-d25d-9c8b557a4649"
      },
      "execution_count": null,
      "outputs": [
        {
          "output_type": "stream",
          "name": "stdout",
          "text": [
            "2\n",
            "<class 'int'>\n"
          ]
        }
      ]
    },
    {
      "cell_type": "markdown",
      "source": [
        "type()\n",
        "\n",
        "Type is an inbuilt function in Python to check the DataType"
      ],
      "metadata": {
        "id": "Qz3N8JMiMZSG"
      }
    },
    {
      "cell_type": "code",
      "source": [
        "y= 2*3\n",
        "print(y)\n",
        "print(type(y))"
      ],
      "metadata": {
        "colab": {
          "base_uri": "https://localhost:8080/"
        },
        "id": "hDC7cjGSJzC7",
        "outputId": "20a35d44-298f-401a-eb24-65cb7d70fa12"
      },
      "execution_count": null,
      "outputs": [
        {
          "output_type": "stream",
          "name": "stdout",
          "text": [
            "6\n",
            "<class 'int'>\n"
          ]
        }
      ]
    },
    {
      "cell_type": "code",
      "source": [
        "type(\"Hello\")"
      ],
      "metadata": {
        "colab": {
          "base_uri": "https://localhost:8080/"
        },
        "id": "66UtsPXeM1x3",
        "outputId": "8e7a9a4e-87ef-4f04-a160-b6b742e7c483"
      },
      "execution_count": null,
      "outputs": [
        {
          "output_type": "execute_result",
          "data": {
            "text/plain": [
              "str"
            ]
          },
          "metadata": {},
          "execution_count": 17
        }
      ]
    },
    {
      "cell_type": "code",
      "source": [
        "type(True)"
      ],
      "metadata": {
        "colab": {
          "base_uri": "https://localhost:8080/"
        },
        "id": "kI_NTa2pNVuJ",
        "outputId": "0770cea0-7da7-4ce5-f8ad-7a016857f1c0"
      },
      "execution_count": null,
      "outputs": [
        {
          "output_type": "execute_result",
          "data": {
            "text/plain": [
              "bool"
            ]
          },
          "metadata": {},
          "execution_count": 18
        }
      ]
    },
    {
      "cell_type": "code",
      "source": [
        "10*'str'"
      ],
      "metadata": {
        "colab": {
          "base_uri": "https://localhost:8080/",
          "height": 36
        },
        "id": "7xRRroiNHCJf",
        "outputId": "430a1867-afa2-4486-9224-1f061f87dbc7"
      },
      "execution_count": null,
      "outputs": [
        {
          "output_type": "execute_result",
          "data": {
            "text/plain": [
              "'strstrstrstrstrstrstrstrstrstr'"
            ],
            "application/vnd.google.colaboratory.intrinsic+json": {
              "type": "string"
            }
          },
          "metadata": {},
          "execution_count": 15
        }
      ]
    },
    {
      "cell_type": "code",
      "source": [
        "10**2"
      ],
      "metadata": {
        "colab": {
          "base_uri": "https://localhost:8080/"
        },
        "id": "4ec0OL8YMRTr",
        "outputId": "c8ce6aee-de53-46cb-954a-adcb43a2d892"
      },
      "execution_count": null,
      "outputs": [
        {
          "output_type": "execute_result",
          "data": {
            "text/plain": [
              "100"
            ]
          },
          "metadata": {},
          "execution_count": 16
        }
      ]
    },
    {
      "cell_type": "markdown",
      "source": [
        "# **Strings**"
      ],
      "metadata": {
        "id": "25U5xCqoM6-u"
      }
    },
    {
      "cell_type": "markdown",
      "source": [
        "Can be used with double enclosed quotes and single enclosed quotes."
      ],
      "metadata": {
        "id": "o62VhdRBN_lm"
      }
    },
    {
      "cell_type": "code",
      "source": [
        "\"Hello\""
      ],
      "metadata": {
        "colab": {
          "base_uri": "https://localhost:8080/",
          "height": 36
        },
        "id": "h10cS5QZN71F",
        "outputId": "1c496f8a-fc26-4018-bfbf-9dc5e45da1ad"
      },
      "execution_count": null,
      "outputs": [
        {
          "output_type": "execute_result",
          "data": {
            "text/plain": [
              "'Hello'"
            ],
            "application/vnd.google.colaboratory.intrinsic+json": {
              "type": "string"
            }
          },
          "metadata": {},
          "execution_count": 19
        }
      ]
    },
    {
      "cell_type": "code",
      "source": [
        "'Krish Naik'"
      ],
      "metadata": {
        "colab": {
          "base_uri": "https://localhost:8080/",
          "height": 36
        },
        "id": "obcvmsFOOFs4",
        "outputId": "8a52dbf3-d7a8-4862-a74e-f08458591271"
      },
      "execution_count": null,
      "outputs": [
        {
          "output_type": "execute_result",
          "data": {
            "text/plain": [
              "'Krish Naik'"
            ],
            "application/vnd.google.colaboratory.intrinsic+json": {
              "type": "string"
            }
          },
          "metadata": {},
          "execution_count": 20
        }
      ]
    },
    {
      "cell_type": "code",
      "source": [
        "type('Krish Naik')"
      ],
      "metadata": {
        "colab": {
          "base_uri": "https://localhost:8080/"
        },
        "id": "e8TahD5qOXuB",
        "outputId": "04c55520-e393-49b6-a78a-2f5042e7fe69"
      },
      "execution_count": null,
      "outputs": [
        {
          "output_type": "execute_result",
          "data": {
            "text/plain": [
              "str"
            ]
          },
          "metadata": {},
          "execution_count": 21
        }
      ]
    },
    {
      "cell_type": "code",
      "source": [
        "type(\"Krih Naik\")"
      ],
      "metadata": {
        "colab": {
          "base_uri": "https://localhost:8080/"
        },
        "id": "yhTEOOGpOenP",
        "outputId": "8f4b82b8-c9b5-44fc-e138-759606672745"
      },
      "execution_count": null,
      "outputs": [
        {
          "output_type": "execute_result",
          "data": {
            "text/plain": [
              "str"
            ]
          },
          "metadata": {},
          "execution_count": 22
        }
      ]
    },
    {
      "cell_type": "markdown",
      "source": [
        "# **Variable Assignment**\n",
        "\n",
        "No need to specify DataType .\n"
      ],
      "metadata": {
        "id": "CIdAH37_OjNi"
      }
    },
    {
      "cell_type": "code",
      "source": [
        "#syntax\n",
        "# var_name= values\n",
        "\n",
        "#int a=10 #Throws error\n",
        "a=10"
      ],
      "metadata": {
        "id": "CrTXlMJXO6sE"
      },
      "execution_count": null,
      "outputs": []
    },
    {
      "cell_type": "code",
      "source": [
        "type(a)"
      ],
      "metadata": {
        "colab": {
          "base_uri": "https://localhost:8080/"
        },
        "id": "V-vdp5n2PLpc",
        "outputId": "cf3db098-1ee9-40cc-a906-cfbec839ab0a"
      },
      "execution_count": null,
      "outputs": [
        {
          "output_type": "execute_result",
          "data": {
            "text/plain": [
              "int"
            ]
          },
          "metadata": {},
          "execution_count": 25
        }
      ]
    },
    {
      "cell_type": "code",
      "source": [
        "a='Krish Naik'\n",
        "type(a)"
      ],
      "metadata": {
        "colab": {
          "base_uri": "https://localhost:8080/"
        },
        "id": "I178EOy1POgh",
        "outputId": "657da372-1b0a-403c-84e0-ae02a8f6525d"
      },
      "execution_count": null,
      "outputs": [
        {
          "output_type": "execute_result",
          "data": {
            "text/plain": [
              "str"
            ]
          },
          "metadata": {},
          "execution_count": 27
        }
      ]
    },
    {
      "cell_type": "code",
      "source": [
        "##  Mathematical operation with Variable Assignment\n",
        "\n",
        "a=10\n",
        "b=20\n"
      ],
      "metadata": {
        "id": "HOwCZwVvPZcc"
      },
      "execution_count": null,
      "outputs": []
    },
    {
      "cell_type": "code",
      "source": [
        "print(a*b)\n",
        "print(a/b)\n",
        "print(a%b)\n",
        "print((a*b)+(a/b))  #BODMAS precedence rule is applied."
      ],
      "metadata": {
        "colab": {
          "base_uri": "https://localhost:8080/"
        },
        "id": "i8et2eJ0PpUI",
        "outputId": "cc60bb30-f7d2-4ace-c6ba-d6bcc5529ce3"
      },
      "execution_count": null,
      "outputs": [
        {
          "output_type": "stream",
          "name": "stdout",
          "text": [
            "200\n",
            "0.5\n",
            "10\n",
            "200.5\n"
          ]
        }
      ]
    },
    {
      "cell_type": "code",
      "source": [
        "## Various Ways of Printing\n",
        "\n",
        "print(\"Hello\")"
      ],
      "metadata": {
        "colab": {
          "base_uri": "https://localhost:8080/"
        },
        "id": "5shlPhBqP83W",
        "outputId": "1b85a1ae-97c3-4336-f038-82af2526a20a"
      },
      "execution_count": null,
      "outputs": [
        {
          "output_type": "stream",
          "name": "stdout",
          "text": [
            "Hello\n"
          ]
        }
      ]
    },
    {
      "cell_type": "code",
      "source": [
        "first_name=\"Devanjali\"\n",
        "last_name=\"Patel\""
      ],
      "metadata": {
        "id": "pdvZgdtnQTz0"
      },
      "execution_count": null,
      "outputs": []
    },
    {
      "cell_type": "code",
      "source": [
        "print(\"My first name is {} and last name is {}\".format(first_name,last_name))\n",
        "#Ordering is important"
      ],
      "metadata": {
        "colab": {
          "base_uri": "https://localhost:8080/"
        },
        "id": "WCRa4DabQbXy",
        "outputId": "0ed5c62a-5a5b-4167-863a-4b7ca0fedc34"
      },
      "execution_count": null,
      "outputs": [
        {
          "output_type": "stream",
          "name": "stdout",
          "text": [
            "My first name is Devanjali and last name is Patel\n"
          ]
        }
      ]
    },
    {
      "cell_type": "code",
      "source": [
        "print(\"My first name is {} and last name is {}\".format(last_name,first_name))"
      ],
      "metadata": {
        "colab": {
          "base_uri": "https://localhost:8080/"
        },
        "id": "wZk9UIcERvJf",
        "outputId": "0634dc13-b8f2-448d-d118-acd298f73a0e"
      },
      "execution_count": null,
      "outputs": [
        {
          "output_type": "stream",
          "name": "stdout",
          "text": [
            "My first name is Patel and last name is Devanjali\n"
          ]
        }
      ]
    },
    {
      "cell_type": "code",
      "source": [
        "print(\"My first name is %s and last name is %s\"%(first_name,last_name))"
      ],
      "metadata": {
        "colab": {
          "base_uri": "https://localhost:8080/"
        },
        "id": "tdESPxuRRF5h",
        "outputId": "73c2e9c6-9757-4d29-c1b9-5011956da149"
      },
      "execution_count": null,
      "outputs": [
        {
          "output_type": "stream",
          "name": "stdout",
          "text": [
            "My first name is Devanjali and last name is Patel\n"
          ]
        }
      ]
    },
    {
      "cell_type": "code",
      "source": [
        "print(\"My First name is {first} and last name is {last}\".format (last=last_name,first=first_name))"
      ],
      "metadata": {
        "colab": {
          "base_uri": "https://localhost:8080/"
        },
        "id": "jsbz4wKFSMwZ",
        "outputId": "6656fe7c-edc8-4fec-8e3c-1178c6b1bcbe"
      },
      "execution_count": null,
      "outputs": [
        {
          "output_type": "stream",
          "name": "stdout",
          "text": [
            "My First name is Devanjali and last name is Patel\n"
          ]
        }
      ]
    },
    {
      "cell_type": "code",
      "source": [
        "len('Devanjali')\n",
        "#counts the charachter"
      ],
      "metadata": {
        "colab": {
          "base_uri": "https://localhost:8080/"
        },
        "id": "oH0o74Q5Sh9s",
        "outputId": "803e9445-5da6-4476-ecdb-871927ff574c"
      },
      "execution_count": null,
      "outputs": [
        {
          "output_type": "execute_result",
          "data": {
            "text/plain": [
              "9"
            ]
          },
          "metadata": {},
          "execution_count": 39
        }
      ]
    },
    {
      "cell_type": "markdown",
      "source": [
        "# **Type in Python**"
      ],
      "metadata": {
        "id": "PELyJ93vTQm6"
      }
    },
    {
      "cell_type": "code",
      "source": [
        "type('Python')"
      ],
      "metadata": {
        "colab": {
          "base_uri": "https://localhost:8080/"
        },
        "id": "hk5ZOsLBS2Hk",
        "outputId": "548576d3-3fb1-45d0-d17b-423350c09c02"
      },
      "execution_count": null,
      "outputs": [
        {
          "output_type": "execute_result",
          "data": {
            "text/plain": [
              "str"
            ]
          },
          "metadata": {},
          "execution_count": 40
        }
      ]
    },
    {
      "cell_type": "code",
      "source": [
        "type(())"
      ],
      "metadata": {
        "colab": {
          "base_uri": "https://localhost:8080/"
        },
        "id": "WHrK2Zn_TMEH",
        "outputId": "ba147dee-7655-4e24-9189-2d1563342ea9"
      },
      "execution_count": null,
      "outputs": [
        {
          "output_type": "execute_result",
          "data": {
            "text/plain": [
              "tuple"
            ]
          },
          "metadata": {},
          "execution_count": 41
        }
      ]
    },
    {
      "cell_type": "code",
      "source": [
        "type([1,2,3,4,5])"
      ],
      "metadata": {
        "colab": {
          "base_uri": "https://localhost:8080/"
        },
        "id": "or0Sea1cTcOQ",
        "outputId": "41982367-79bd-458d-b7f0-ab375530012c"
      },
      "execution_count": null,
      "outputs": [
        {
          "output_type": "execute_result",
          "data": {
            "text/plain": [
              "list"
            ]
          },
          "metadata": {},
          "execution_count": 42
        }
      ]
    },
    {
      "cell_type": "markdown",
      "source": [
        "#  Python Data Structures and Boolean"
      ],
      "metadata": {
        "id": "IN20hFOJUZkD"
      }
    },
    {
      "cell_type": "markdown",
      "source": [
        "- Boolean\n",
        "-Boolean and Logical Operators\n",
        "-Lists\n",
        "-Comparison Operators\n",
        "-Dictionaries\n",
        "-Tuples"
      ],
      "metadata": {
        "id": "dTESlKyBUxne"
      }
    },
    {
      "cell_type": "code",
      "source": [],
      "metadata": {
        "id": "VSwCM1ZrUY3u"
      },
      "execution_count": null,
      "outputs": []
    }
  ]
}